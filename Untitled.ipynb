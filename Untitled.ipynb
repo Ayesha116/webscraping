{
 "cells": [
  {
   "cell_type": "code",
   "execution_count": 2,
   "metadata": {},
   "outputs": [],
   "source": [
    "from urllib.request import urlopen as ureq\n",
    "from bs4 import BeautifulSoup as bs"
   ]
  },
  {
   "cell_type": "code",
   "execution_count": 3,
   "metadata": {},
   "outputs": [],
   "source": [
    "my_url = \"https://www.goto.com.pk/catalog-search/filter/q/mobile%20phones/filter/category/2362\""
   ]
  },
  {
   "cell_type": "code",
   "execution_count": 4,
   "metadata": {},
   "outputs": [],
   "source": [
    "uclient = ureq(my_url)"
   ]
  },
  {
   "cell_type": "code",
   "execution_count": 5,
   "metadata": {},
   "outputs": [],
   "source": [
    "page_html = uclient.read()"
   ]
  },
  {
   "cell_type": "code",
   "execution_count": 6,
   "metadata": {},
   "outputs": [],
   "source": [
    "uclient.close()"
   ]
  },
  {
   "cell_type": "code",
   "execution_count": 7,
   "metadata": {},
   "outputs": [],
   "source": [
    "page_soup = bs(page_html , \"html.parser\")"
   ]
  },
  {
   "cell_type": "code",
   "execution_count": 8,
   "metadata": {},
   "outputs": [
    {
     "data": {
      "text/plain": [
       "<h2>Filters</h2>"
      ]
     },
     "execution_count": 8,
     "metadata": {},
     "output_type": "execute_result"
    }
   ],
   "source": [
    "page_soup.h2"
   ]
  },
  {
   "cell_type": "code",
   "execution_count": 9,
   "metadata": {},
   "outputs": [
    {
     "data": {
      "text/plain": [
       "<p>For 100% original products, let’s Goto</p>"
      ]
     },
     "execution_count": 9,
     "metadata": {},
     "output_type": "execute_result"
    }
   ],
   "source": [
    "page_soup.p"
   ]
  },
  {
   "cell_type": "code",
   "execution_count": 10,
   "metadata": {},
   "outputs": [],
   "source": [
    "from bs4 import BeautifulSoup as bs\n",
    "from urllib.request import urlopen as ureq"
   ]
  },
  {
   "cell_type": "code",
   "execution_count": 11,
   "metadata": {},
   "outputs": [
    {
     "data": {
      "text/plain": [
       "<span class=\"icon-search btn-search\"></span>"
      ]
     },
     "execution_count": 11,
     "metadata": {},
     "output_type": "execute_result"
    }
   ],
   "source": [
    "page_soup.body.span"
   ]
  },
  {
   "cell_type": "code",
   "execution_count": 12,
   "metadata": {},
   "outputs": [],
   "source": [
    "container = page_soup.findAll(\"div\",{\"class\": \"product-info\"})"
   ]
  },
  {
   "cell_type": "code",
   "execution_count": 13,
   "metadata": {},
   "outputs": [],
   "source": [
    "contain = container[0]"
   ]
  },
  {
   "cell_type": "code",
   "execution_count": 14,
   "metadata": {},
   "outputs": [
    {
     "data": {
      "text/plain": [
       "'lder Mult'"
      ]
     },
     "execution_count": 14,
     "metadata": {},
     "output_type": "execute_result"
    }
   ],
   "source": [
    "a = container[0].div.a[\"title\"]\n",
    "a[21:30]"
   ]
  },
  {
   "cell_type": "code",
   "execution_count": 15,
   "metadata": {},
   "outputs": [
    {
     "name": "stdout",
     "output_type": "stream",
     "text": [
      "<div class=\"product-info\">\n",
      " <div class=\"product-name\">\n",
      "  <h2>\n",
      "   <a href=\"https://www.goto.com.pk/magic-mobile-phone-holder-multicolor\" rel=\"index, follow\" title=\"Magic Mobile Phone Holder Multicolor\">\n",
      "    Magic Mobile Phone Holder Multicolor\n",
      "   </a>\n",
      "  </h2>\n",
      " </div>\n",
      " <div class=\"product-price\">\n",
      "  <div class=\"price-box\">\n",
      "   <span class=\"regular-price\">\n",
      "    <span class=\"price\">\n",
      "     Rs.\n",
      "     <span>\n",
      "      399\n",
      "     </span>\n",
      "    </span>\n",
      "   </span>\n",
      "  </div>\n",
      " </div>\n",
      " <div class=\"product-review\">\n",
      "  <ul>\n",
      "   <li>\n",
      "    <div class=\"stars\">\n",
      "     <div class=\"percents\" style=\"width: 0%;\">\n",
      "     </div>\n",
      "    </div>\n",
      "    <!--              <span class=\"avg-rati\">-->\n",
      "    <?//= $reviewsRating ?>\n",
      "    <!--</span>-->\n",
      "    <span class=\"count float-right\">\n",
      "     <a href=\"https://www.goto.com.pk/magic-mobile-phone-holder-multicolor#review\">\n",
      "      (0 Reviews)\n",
      "     </a>\n",
      "    </span>\n",
      "   </li>\n",
      "  </ul>\n",
      " </div>\n",
      "</div>\n",
      "\n"
     ]
    }
   ],
   "source": [
    "print(bs.prettify(container[0]))"
   ]
  },
  {
   "cell_type": "code",
   "execution_count": 16,
   "metadata": {},
   "outputs": [],
   "source": [
    "for i in container:\n",
    "    all_things = i.div.a[\"title\"]\n",
    "    brand = all_things[:9]\n",
    "    ram = all_things[10:20]\n",
    "    rom = all_things[21:29]\n",
    "    colour = all_things[31:39]\n",
    "    "
   ]
  },
  {
   "cell_type": "code",
   "execution_count": 17,
   "metadata": {},
   "outputs": [
    {
     "data": {
      "text/plain": [
       "'Skin Pin'"
      ]
     },
     "execution_count": 17,
     "metadata": {},
     "output_type": "execute_result"
    }
   ],
   "source": [
    "colour"
   ]
  },
  {
   "cell_type": "code",
   "execution_count": null,
   "metadata": {},
   "outputs": [],
   "source": []
  },
  {
   "cell_type": "code",
   "execution_count": null,
   "metadata": {},
   "outputs": [],
   "source": []
  },
  {
   "cell_type": "code",
   "execution_count": null,
   "metadata": {},
   "outputs": [],
   "source": []
  },
  {
   "cell_type": "code",
   "execution_count": null,
   "metadata": {},
   "outputs": [],
   "source": []
  },
  {
   "cell_type": "code",
   "execution_count": null,
   "metadata": {},
   "outputs": [],
   "source": []
  }
 ],
 "metadata": {
  "kernelspec": {
   "display_name": "Python 3",
   "language": "python",
   "name": "python3"
  },
  "language_info": {
   "codemirror_mode": {
    "name": "ipython",
    "version": 3
   },
   "file_extension": ".py",
   "mimetype": "text/x-python",
   "name": "python",
   "nbconvert_exporter": "python",
   "pygments_lexer": "ipython3",
   "version": "3.7.4"
  }
 },
 "nbformat": 4,
 "nbformat_minor": 4
}
