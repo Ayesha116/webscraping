{
 "cells": [
  {
   "cell_type": "code",
   "execution_count": null,
   "metadata": {},
   "outputs": [],
   "source": [
    "# YouTube Link:\n",
    "\n",
    "# Ensure that you have both beautifulsoup and requests installed:\n",
    "#   pip install beautifulsoup4\n",
    "#   pip install requests\n",
    "\n",
    "import requests\n",
    "from bs4 import BeautifulSoup\n",
    "\n",
    "# Using the requests module, we use the \"get\" function\n",
    "# provided to access the webpage provided as an\n",
    "# argument to this function:\n",
    "result = requests.get(\"https://www.google.com/\")\n",
    "\n",
    "# To make sure that the website is accessible, we can\n",
    "# ensure that we obtain a 200 OK response to indicate\n",
    "# that the page is indeed present:\n",
    "print(result.status_code)\n",
    "\n",
    "# For other potential status codes you may encounter,\n",
    "# consult the following Wikipedia page:\n",
    "# https://en.wikipedia.org/wiki/List_of_HTTP_status_codes\n",
    "\n",
    "# We can also check the HTTP header of the website to\n",
    "# verify that we have indeed accessed the correct page:\n",
    "print(result.headers)\n",
    "\n",
    "# For more information on HTTP headers and the information\n",
    "# one can obtain from them, you may consult:\n",
    "# https://en.wikipedia.org/wiki/List_of_HTTP_header_fields\n",
    "\n",
    "# Now, let us store the page content of the website accessed\n",
    "# from requests to a variable:\n",
    "src = result.content\n",
    "\n",
    "# Now that we have the page source stored, we will use the\n",
    "# BeautifulSoup module to parse and process the source.\n",
    "# To do so, we create a BeautifulSoup object based on the\n",
    "# source variable we created above:\n",
    "soup = BeautifulSoup(src, 'lxml')\n",
    "\n",
    "# Now that the page source has been processed via Beautifulsoup\n",
    "# we can access specific information directly from it. For instance,\n",
    "# say we want to see a list of all of the links on the page:\n",
    "links = soup.find_all(\"a\")\n",
    "print(links)\n",
    "print(\"\\n\")\n",
    "\n",
    "# Perhaps we just want to extract the link that has contains the text\n",
    "# \"About\" on the page instead of every link. We can use the built-in\n",
    "# \"text\" function to access the text content between the <a> </a>\n",
    "# tags.\n",
    "for link in links:\n",
    "    if \"About\" in link.text:\n",
    "        print(link)\n",
    "        print(link.attrs['href'])"
   ]
  },
  {
   "cell_type": "code",
   "execution_count": null,
   "metadata": {},
   "outputs": [],
   "source": []
  },
  {
   "cell_type": "code",
   "execution_count": null,
   "metadata": {},
   "outputs": [],
   "source": []
  },
  {
   "cell_type": "code",
   "execution_count": null,
   "metadata": {},
   "outputs": [],
   "source": []
  },
  {
   "cell_type": "code",
   "execution_count": null,
   "metadata": {},
   "outputs": [],
   "source": []
  },
  {
   "cell_type": "code",
   "execution_count": null,
   "metadata": {},
   "outputs": [],
   "source": []
  },
  {
   "cell_type": "code",
   "execution_count": null,
   "metadata": {},
   "outputs": [],
   "source": []
  }
 ],
 "metadata": {
  "kernelspec": {
   "display_name": "Python 3",
   "language": "python",
   "name": "python3"
  },
  "language_info": {
   "codemirror_mode": {
    "name": "ipython",
    "version": 3
   },
   "file_extension": ".py",
   "mimetype": "text/x-python",
   "name": "python",
   "nbconvert_exporter": "python",
   "pygments_lexer": "ipython3",
   "version": "3.7.4"
  }
 },
 "nbformat": 4,
 "nbformat_minor": 4
}
